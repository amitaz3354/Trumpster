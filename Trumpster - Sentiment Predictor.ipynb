{
 "cells": [
  {
   "cell_type": "markdown",
   "metadata": {},
   "source": [
    "# Imports "
   ]
  },
  {
   "cell_type": "code",
   "execution_count": 1,
   "metadata": {},
   "outputs": [],
   "source": [
    "import numpy as mp\n",
    "import pandas as pd \n",
    "from textblob import TextBlob\n",
    "import string \n",
    "import re \n",
    "import nltk\n",
    "from nltk.corpus import stopwords\n",
    "from sklearn.feature_extraction.text import CountVectorizer\n",
    "from sklearn.model_selection import train_test_split\n",
    "from sklearn.linear_model import LogisticRegression\n",
    "from sklearn.metrics import confusion_matrix,classification_report,accuracy_score"
   ]
  },
  {
   "cell_type": "code",
   "execution_count": 2,
   "metadata": {},
   "outputs": [],
   "source": [
    "trump = pd.read_csv('alltweets.csv')"
   ]
  },
  {
   "cell_type": "code",
   "execution_count": 3,
   "metadata": {},
   "outputs": [
    {
     "data": {
      "text/html": [
       "<div>\n",
       "<style scoped>\n",
       "    .dataframe tbody tr th:only-of-type {\n",
       "        vertical-align: middle;\n",
       "    }\n",
       "\n",
       "    .dataframe tbody tr th {\n",
       "        vertical-align: top;\n",
       "    }\n",
       "\n",
       "    .dataframe thead th {\n",
       "        text-align: right;\n",
       "    }\n",
       "</style>\n",
       "<table border=\"1\" class=\"dataframe\">\n",
       "  <thead>\n",
       "    <tr style=\"text-align: right;\">\n",
       "      <th></th>\n",
       "      <th>source</th>\n",
       "      <th>text</th>\n",
       "      <th>created_at</th>\n",
       "      <th>retweet_count</th>\n",
       "      <th>favorite_count</th>\n",
       "      <th>is_retweet</th>\n",
       "      <th>id_str</th>\n",
       "    </tr>\n",
       "  </thead>\n",
       "  <tbody>\n",
       "    <tr>\n",
       "      <th>0</th>\n",
       "      <td>Twitter for iPhone</td>\n",
       "      <td>I am in Japan at the G-20 representing our Cou...</td>\n",
       "      <td>06-28-2019 09:26:34</td>\n",
       "      <td>20416</td>\n",
       "      <td>102303</td>\n",
       "      <td>False</td>\n",
       "      <td>1144537564944228352</td>\n",
       "    </tr>\n",
       "    <tr>\n",
       "      <th>1</th>\n",
       "      <td>Twitter for iPhone</td>\n",
       "      <td>The Stock Market went up massively from the da...</td>\n",
       "      <td>06-28-2019 09:12:18</td>\n",
       "      <td>15350</td>\n",
       "      <td>78061</td>\n",
       "      <td>False</td>\n",
       "      <td>1144533973428842496</td>\n",
       "    </tr>\n",
       "    <tr>\n",
       "      <th>2</th>\n",
       "      <td>Twitter for iPhone</td>\n",
       "      <td>All Democrats just raised their hands for givi...</td>\n",
       "      <td>06-28-2019 01:37:04</td>\n",
       "      <td>59615</td>\n",
       "      <td>233426</td>\n",
       "      <td>False</td>\n",
       "      <td>1144419410729242625</td>\n",
       "    </tr>\n",
       "    <tr>\n",
       "      <th>3</th>\n",
       "      <td>Twitter for iPhone</td>\n",
       "      <td>Great to be back in Japan for the #G20OsakaSum...</td>\n",
       "      <td>06-28-2019 00:46:37</td>\n",
       "      <td>12999</td>\n",
       "      <td>63019</td>\n",
       "      <td>False</td>\n",
       "      <td>1144406713165963264</td>\n",
       "    </tr>\n",
       "    <tr>\n",
       "      <th>4</th>\n",
       "      <td>Twitter for iPhone</td>\n",
       "      <td>Bipartisan Humanitarian Aid Bill for the South...</td>\n",
       "      <td>06-27-2019 22:22:39</td>\n",
       "      <td>22269</td>\n",
       "      <td>94193</td>\n",
       "      <td>False</td>\n",
       "      <td>1144370485783867392</td>\n",
       "    </tr>\n",
       "  </tbody>\n",
       "</table>\n",
       "</div>"
      ],
      "text/plain": [
       "               source                                               text  \\\n",
       "0  Twitter for iPhone  I am in Japan at the G-20 representing our Cou...   \n",
       "1  Twitter for iPhone  The Stock Market went up massively from the da...   \n",
       "2  Twitter for iPhone  All Democrats just raised their hands for givi...   \n",
       "3  Twitter for iPhone  Great to be back in Japan for the #G20OsakaSum...   \n",
       "4  Twitter for iPhone  Bipartisan Humanitarian Aid Bill for the South...   \n",
       "\n",
       "            created_at  retweet_count  favorite_count is_retweet  \\\n",
       "0  06-28-2019 09:26:34          20416          102303      False   \n",
       "1  06-28-2019 09:12:18          15350           78061      False   \n",
       "2  06-28-2019 01:37:04          59615          233426      False   \n",
       "3  06-28-2019 00:46:37          12999           63019      False   \n",
       "4  06-27-2019 22:22:39          22269           94193      False   \n",
       "\n",
       "                id_str  \n",
       "0  1144537564944228352  \n",
       "1  1144533973428842496  \n",
       "2  1144419410729242625  \n",
       "3  1144406713165963264  \n",
       "4  1144370485783867392  "
      ]
     },
     "execution_count": 3,
     "metadata": {},
     "output_type": "execute_result"
    }
   ],
   "source": [
    "trump.head()"
   ]
  },
  {
   "cell_type": "markdown",
   "metadata": {},
   "source": [
    "# DataFrame cleaning"
   ]
  },
  {
   "cell_type": "code",
   "execution_count": 4,
   "metadata": {},
   "outputs": [],
   "source": [
    "trump.drop(['id_str','created_at','source'],axis=1,inplace=True)"
   ]
  },
  {
   "cell_type": "code",
   "execution_count": 5,
   "metadata": {},
   "outputs": [],
   "source": [
    "#removing RT\n",
    "mask = trump['is_retweet'] == True\n",
    "trump = trump[~mask]"
   ]
  },
  {
   "cell_type": "code",
   "execution_count": 6,
   "metadata": {},
   "outputs": [],
   "source": [
    "#removing links from tweets\n",
    "trump['cleanLinks'] = trump['text'].apply(lambda x: re.split('https:\\/\\/.*', str(x))[0])"
   ]
  },
  {
   "cell_type": "code",
   "execution_count": 7,
   "metadata": {},
   "outputs": [],
   "source": [
    "trump.drop(['is_retweet','text'],axis=1,inplace=True)"
   ]
  },
  {
   "cell_type": "markdown",
   "metadata": {},
   "source": [
    "# Preforming sentiment analysis using textblob"
   ]
  },
  {
   "cell_type": "code",
   "execution_count": 8,
   "metadata": {},
   "outputs": [],
   "source": [
    "trump['sentiment']=trump['cleanLinks'].apply(lambda t:TextBlob(t).polarity)"
   ]
  },
  {
   "cell_type": "code",
   "execution_count": 9,
   "metadata": {},
   "outputs": [
    {
     "data": {
      "text/html": [
       "<div>\n",
       "<style scoped>\n",
       "    .dataframe tbody tr th:only-of-type {\n",
       "        vertical-align: middle;\n",
       "    }\n",
       "\n",
       "    .dataframe tbody tr th {\n",
       "        vertical-align: top;\n",
       "    }\n",
       "\n",
       "    .dataframe thead th {\n",
       "        text-align: right;\n",
       "    }\n",
       "</style>\n",
       "<table border=\"1\" class=\"dataframe\">\n",
       "  <thead>\n",
       "    <tr style=\"text-align: right;\">\n",
       "      <th></th>\n",
       "      <th>retweet_count</th>\n",
       "      <th>favorite_count</th>\n",
       "      <th>cleanLinks</th>\n",
       "      <th>sentiment</th>\n",
       "    </tr>\n",
       "  </thead>\n",
       "  <tbody>\n",
       "    <tr>\n",
       "      <th>0</th>\n",
       "      <td>20416</td>\n",
       "      <td>102303</td>\n",
       "      <td>I am in Japan at the G-20 representing our Cou...</td>\n",
       "      <td>-0.295000</td>\n",
       "    </tr>\n",
       "    <tr>\n",
       "      <th>1</th>\n",
       "      <td>15350</td>\n",
       "      <td>78061</td>\n",
       "      <td>The Stock Market went up massively from the da...</td>\n",
       "      <td>0.000000</td>\n",
       "    </tr>\n",
       "    <tr>\n",
       "      <th>2</th>\n",
       "      <td>59615</td>\n",
       "      <td>233426</td>\n",
       "      <td>All Democrats just raised their hands for givi...</td>\n",
       "      <td>-0.036458</td>\n",
       "    </tr>\n",
       "    <tr>\n",
       "      <th>3</th>\n",
       "      <td>12999</td>\n",
       "      <td>63019</td>\n",
       "      <td>Great to be back in Japan for the #G20OsakaSummit</td>\n",
       "      <td>0.400000</td>\n",
       "    </tr>\n",
       "    <tr>\n",
       "      <th>4</th>\n",
       "      <td>22269</td>\n",
       "      <td>94193</td>\n",
       "      <td>Bipartisan Humanitarian Aid Bill for the South...</td>\n",
       "      <td>0.125000</td>\n",
       "    </tr>\n",
       "  </tbody>\n",
       "</table>\n",
       "</div>"
      ],
      "text/plain": [
       "   retweet_count  favorite_count  \\\n",
       "0          20416          102303   \n",
       "1          15350           78061   \n",
       "2          59615          233426   \n",
       "3          12999           63019   \n",
       "4          22269           94193   \n",
       "\n",
       "                                          cleanLinks  sentiment  \n",
       "0  I am in Japan at the G-20 representing our Cou...  -0.295000  \n",
       "1  The Stock Market went up massively from the da...   0.000000  \n",
       "2  All Democrats just raised their hands for givi...  -0.036458  \n",
       "3  Great to be back in Japan for the #G20OsakaSummit   0.400000  \n",
       "4  Bipartisan Humanitarian Aid Bill for the South...   0.125000  "
      ]
     },
     "execution_count": 9,
     "metadata": {},
     "output_type": "execute_result"
    }
   ],
   "source": [
    "trump.head()"
   ]
  },
  {
   "cell_type": "code",
   "execution_count": 10,
   "metadata": {},
   "outputs": [],
   "source": [
    "#reseting the index for future operation\n",
    "trump.reset_index(inplace=True)"
   ]
  },
  {
   "cell_type": "markdown",
   "metadata": {},
   "source": [
    "# Feature Engineering"
   ]
  },
  {
   "cell_type": "code",
   "execution_count": 11,
   "metadata": {},
   "outputs": [],
   "source": [
    "#defining a rank function to try and divide the sentiments to good and bad.\n",
    "\n",
    "def rank(data):\n",
    "    if data >= -1.0 and data < 0.0:\n",
    "        data = 'Negtive'\n",
    "    elif data == 0.0:\n",
    "        data = 'Natural'\n",
    "    elif data > 0.0 and data <= 1.0:\n",
    "        data = 'Positive'\n",
    "    return data\n",
    "\n",
    "trump['rank'] = trump['sentiment'].apply(rank)\n",
    "    "
   ]
  },
  {
   "cell_type": "code",
   "execution_count": 12,
   "metadata": {},
   "outputs": [
    {
     "data": {
      "text/html": [
       "<div>\n",
       "<style scoped>\n",
       "    .dataframe tbody tr th:only-of-type {\n",
       "        vertical-align: middle;\n",
       "    }\n",
       "\n",
       "    .dataframe tbody tr th {\n",
       "        vertical-align: top;\n",
       "    }\n",
       "\n",
       "    .dataframe thead th {\n",
       "        text-align: right;\n",
       "    }\n",
       "</style>\n",
       "<table border=\"1\" class=\"dataframe\">\n",
       "  <thead>\n",
       "    <tr style=\"text-align: right;\">\n",
       "      <th></th>\n",
       "      <th>index</th>\n",
       "      <th>retweet_count</th>\n",
       "      <th>favorite_count</th>\n",
       "      <th>cleanLinks</th>\n",
       "      <th>sentiment</th>\n",
       "      <th>rank</th>\n",
       "    </tr>\n",
       "  </thead>\n",
       "  <tbody>\n",
       "    <tr>\n",
       "      <th>0</th>\n",
       "      <td>0</td>\n",
       "      <td>20416</td>\n",
       "      <td>102303</td>\n",
       "      <td>I am in Japan at the G-20 representing our Cou...</td>\n",
       "      <td>-0.295000</td>\n",
       "      <td>Negtive</td>\n",
       "    </tr>\n",
       "    <tr>\n",
       "      <th>1</th>\n",
       "      <td>1</td>\n",
       "      <td>15350</td>\n",
       "      <td>78061</td>\n",
       "      <td>The Stock Market went up massively from the da...</td>\n",
       "      <td>0.000000</td>\n",
       "      <td>Natural</td>\n",
       "    </tr>\n",
       "    <tr>\n",
       "      <th>2</th>\n",
       "      <td>2</td>\n",
       "      <td>59615</td>\n",
       "      <td>233426</td>\n",
       "      <td>All Democrats just raised their hands for givi...</td>\n",
       "      <td>-0.036458</td>\n",
       "      <td>Negtive</td>\n",
       "    </tr>\n",
       "    <tr>\n",
       "      <th>3</th>\n",
       "      <td>3</td>\n",
       "      <td>12999</td>\n",
       "      <td>63019</td>\n",
       "      <td>Great to be back in Japan for the #G20OsakaSummit</td>\n",
       "      <td>0.400000</td>\n",
       "      <td>Positive</td>\n",
       "    </tr>\n",
       "    <tr>\n",
       "      <th>4</th>\n",
       "      <td>4</td>\n",
       "      <td>22269</td>\n",
       "      <td>94193</td>\n",
       "      <td>Bipartisan Humanitarian Aid Bill for the South...</td>\n",
       "      <td>0.125000</td>\n",
       "      <td>Positive</td>\n",
       "    </tr>\n",
       "  </tbody>\n",
       "</table>\n",
       "</div>"
      ],
      "text/plain": [
       "   index  retweet_count  favorite_count  \\\n",
       "0      0          20416          102303   \n",
       "1      1          15350           78061   \n",
       "2      2          59615          233426   \n",
       "3      3          12999           63019   \n",
       "4      4          22269           94193   \n",
       "\n",
       "                                          cleanLinks  sentiment      rank  \n",
       "0  I am in Japan at the G-20 representing our Cou...  -0.295000   Negtive  \n",
       "1  The Stock Market went up massively from the da...   0.000000   Natural  \n",
       "2  All Democrats just raised their hands for givi...  -0.036458   Negtive  \n",
       "3  Great to be back in Japan for the #G20OsakaSummit   0.400000  Positive  \n",
       "4  Bipartisan Humanitarian Aid Bill for the South...   0.125000  Positive  "
      ]
     },
     "execution_count": 12,
     "metadata": {},
     "output_type": "execute_result"
    }
   ],
   "source": [
    "trump.head()"
   ]
  },
  {
   "cell_type": "markdown",
   "metadata": {},
   "source": [
    "# Text Preprocessing and creating BOW\n"
   ]
  },
  {
   "cell_type": "code",
   "execution_count": 13,
   "metadata": {},
   "outputs": [
    {
     "data": {
      "text/plain": [
       "(10921, 6)"
      ]
     },
     "execution_count": 13,
     "metadata": {},
     "output_type": "execute_result"
    }
   ],
   "source": [
    "trump.shape"
   ]
  },
  {
   "cell_type": "code",
   "execution_count": 14,
   "metadata": {},
   "outputs": [],
   "source": [
    "corpus =  []\n",
    "for i in range(0,10921):\n",
    "    review = re.sub('[^a-zA-Z]',' ',trump['cleanLinks'][i])\n",
    "    review = review.lower().split()\n",
    "    #ps = PorterStemmer()\n",
    "    #review = [ps.stem(word) for word in review if word not in stopwords.words('english')]\n",
    "    review = \" \".join(review)\n",
    "    corpus.append(review)"
   ]
  },
  {
   "cell_type": "code",
   "execution_count": 16,
   "metadata": {},
   "outputs": [],
   "source": [
    "cv = CountVectorizer()\n",
    "bow = cv.fit_transform(corpus).toarray()"
   ]
  },
  {
   "cell_type": "markdown",
   "metadata": {},
   "source": [
    "# Data prep\n"
   ]
  },
  {
   "cell_type": "code",
   "execution_count": 17,
   "metadata": {},
   "outputs": [],
   "source": [
    "X = bow\n",
    "y = trump['rank']\n",
    "\n",
    "X_train, X_test, y_train, y_test = train_test_split(X, y, test_size=0.3, random_state=42)"
   ]
  },
  {
   "cell_type": "markdown",
   "metadata": {},
   "source": [
    "# Setting the Logistic regression\n",
    "\n"
   ]
  },
  {
   "cell_type": "code",
   "execution_count": 18,
   "metadata": {},
   "outputs": [
    {
     "name": "stderr",
     "output_type": "stream",
     "text": [
      "C:\\Users\\Amit Aizenkot Moyal\\AppData\\Local\\Continuum\\anaconda3\\lib\\site-packages\\sklearn\\linear_model\\logistic.py:433: FutureWarning: Default solver will be changed to 'lbfgs' in 0.22. Specify a solver to silence this warning.\n",
      "  FutureWarning)\n",
      "C:\\Users\\Amit Aizenkot Moyal\\AppData\\Local\\Continuum\\anaconda3\\lib\\site-packages\\sklearn\\linear_model\\logistic.py:460: FutureWarning: Default multi_class will be changed to 'auto' in 0.22. Specify the multi_class option to silence this warning.\n",
      "  \"this warning.\", FutureWarning)\n"
     ]
    },
    {
     "data": {
      "text/plain": [
       "LogisticRegression(C=1.0, class_weight=None, dual=False, fit_intercept=True,\n",
       "          intercept_scaling=1, max_iter=100, multi_class='warn',\n",
       "          n_jobs=None, penalty='l2', random_state=None, solver='warn',\n",
       "          tol=0.0001, verbose=0, warm_start=False)"
      ]
     },
     "execution_count": 18,
     "metadata": {},
     "output_type": "execute_result"
    }
   ],
   "source": [
    "log = LogisticRegression()\n",
    "log.fit(X_train,y_train)"
   ]
  },
  {
   "cell_type": "markdown",
   "metadata": {},
   "source": [
    "# Checking the results\n"
   ]
  },
  {
   "cell_type": "code",
   "execution_count": 19,
   "metadata": {},
   "outputs": [
    {
     "name": "stdout",
     "output_type": "stream",
     "text": [
      "[[ 632   47   70]\n",
      " [  61  543  124]\n",
      " [  76   99 1625]]\n",
      "\n",
      "\n",
      "              precision    recall  f1-score   support\n",
      "\n",
      "     Natural       0.82      0.84      0.83       749\n",
      "     Negtive       0.79      0.75      0.77       728\n",
      "    Positive       0.89      0.90      0.90      1800\n",
      "\n",
      "   micro avg       0.85      0.85      0.85      3277\n",
      "   macro avg       0.83      0.83      0.83      3277\n",
      "weighted avg       0.85      0.85      0.85      3277\n",
      "\n",
      "\n",
      "\n",
      "0.8544400366188587\n"
     ]
    }
   ],
   "source": [
    "pred = log.predict(X_test)\n",
    "\n",
    "print(confusion_matrix(y_test,pred))\n",
    "print('\\n')\n",
    "print(classification_report(y_test,pred))\n",
    "print('\\n')\n",
    "print (accuracy_score(y_test,pred))\n"
   ]
  }
 ],
 "metadata": {
  "kernelspec": {
   "display_name": "Python 3",
   "language": "python",
   "name": "python3"
  },
  "language_info": {
   "codemirror_mode": {
    "name": "ipython",
    "version": 3
   },
   "file_extension": ".py",
   "mimetype": "text/x-python",
   "name": "python",
   "nbconvert_exporter": "python",
   "pygments_lexer": "ipython3",
   "version": "3.6.7"
  }
 },
 "nbformat": 4,
 "nbformat_minor": 2
}
